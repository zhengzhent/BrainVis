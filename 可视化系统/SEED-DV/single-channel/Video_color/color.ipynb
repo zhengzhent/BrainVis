{
 "cells": [
  {
   "cell_type": "code",
   "execution_count": 2,
   "metadata": {},
   "outputs": [
    {
     "name": "stdout",
     "output_type": "stream",
     "text": [
      "Shape: (7, 200)\n",
      "Number of elements: 1400\n",
      "Data type: float64\n"
     ]
    }
   ],
   "source": [
    "import numpy as np\n",
    "\n",
    "# 加载文件\n",
    "data = np.load(\"D:\\MyWork\\Program\\BrainVis\\可视化系统\\SEED-DV\\single-channel\\Video_color\\All_video_color.npy\")\n",
    "\n",
    "print(f\"Shape: {data.shape}\")\n",
    "print(f\"Number of elements: {data.size}\")\n",
    "print(f\"Data type: {data.dtype}\")\n"
   ]
  },
  {
   "cell_type": "code",
   "execution_count": 7,
   "metadata": {},
   "outputs": [
    {
     "name": "stdout",
     "output_type": "stream",
     "text": [
      "[0. 6. 0. 0. 0. 0. 0. 0. 0. 0. 0. 3. 3. 4. 3. 0. 4. 0. 0. 0. 5. 5. 5. 5.\n",
      " 5. 2. 2. 2. 2. 2. 0. 0. 0. 0. 0. 0. 0. 0. 0. 0. 0. 0. 0. 0. 0. 0. 0. 0.\n",
      " 0. 0. 4. 0. 4. 4. 4. 0. 0. 0. 0. 0. 0. 0. 0. 0. 0. 0. 0. 0. 0. 0. 0. 0.\n",
      " 0. 2. 0. 0. 0. 0. 0. 0. 0. 0. 0. 0. 0. 0. 0. 0. 0. 0. 0. 0. 0. 0. 0. 0.\n",
      " 0. 0. 0. 0. 0. 0. 0. 0. 0. 0. 0. 0. 0. 0. 5. 0. 0. 0. 3. 0. 0. 0. 0. 0.\n",
      " 0. 4. 4. 0. 0. 0. 0. 0. 0. 0. 0. 0. 0. 0. 0. 0. 0. 6. 0. 0. 4. 0. 0. 0.\n",
      " 0. 1. 1. 2. 2. 2. 0. 3. 5. 6. 6. 0. 6. 0. 4. 0. 0. 0. 3. 0. 0. 1. 1. 1.\n",
      " 1. 5. 4. 1. 0. 5. 1. 0. 0. 0. 0. 0. 0. 0. 0. 0. 0. 0. 0. 0. 0. 0. 5. 0.\n",
      " 0. 0. 0. 3. 3. 3. 3. 3.]\n"
     ]
    }
   ],
   "source": [
    "print(data[0,:])"
   ]
  },
  {
   "cell_type": "code",
   "execution_count": null,
   "metadata": {},
   "outputs": [],
   "source": []
  },
  {
   "cell_type": "code",
   "execution_count": null,
   "metadata": {},
   "outputs": [],
   "source": []
  }
 ],
 "metadata": {
  "kernelspec": {
   "display_name": "Python 3",
   "language": "python",
   "name": "python3"
  },
  "language_info": {
   "codemirror_mode": {
    "name": "ipython",
    "version": 3
   },
   "file_extension": ".py",
   "mimetype": "text/x-python",
   "name": "python",
   "nbconvert_exporter": "python",
   "pygments_lexer": "ipython3",
   "version": "3.9.10"
  }
 },
 "nbformat": 4,
 "nbformat_minor": 2
}
