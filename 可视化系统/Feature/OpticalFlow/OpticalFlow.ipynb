{
 "cells": [
  {
   "cell_type": "code",
   "execution_count": 3,
   "metadata": {},
   "outputs": [
    {
     "name": "stdout",
     "output_type": "stream",
     "text": [
      "Shape: (7, 200)\n",
      "Number of elements: 1400\n",
      "Data type: float64\n"
     ]
    }
   ],
   "source": [
    "import numpy as np\n",
    "\n",
    "# 加载文件\n",
    "data = np.load(\"D:\\MyWork\\Program\\BrainVis\\可视化系统\\SEED-DV\\Video\\meta-info\\All_video_optical_flow_score.npy\")\n",
    "\n",
    "print(f\"Shape: {data.shape}\")\n",
    "print(f\"Number of elements: {data.size}\")\n",
    "print(f\"Data type: {data.dtype}\")\n"
   ]
  },
  {
   "cell_type": "code",
   "execution_count": 4,
   "metadata": {},
   "outputs": [
    {
     "name": "stdout",
     "output_type": "stream",
     "text": [
      "[[6.15113964 3.61656577 6.1460275  ... 1.11590138 0.32528771 3.13943273]\n",
      " [1.69042687 1.51693096 0.84057592 ... 0.43405012 0.65484254 2.28020846]\n",
      " [0.96534792 2.31613423 3.59078644 ... 0.91264231 2.00174276 1.68722032]\n",
      " ...\n",
      " [1.86760979 2.28685878 2.58938373 ... 0.88423651 5.22219776 6.22558072]\n",
      " [0.20841334 0.57574575 0.51481974 ... 0.91469667 0.80459707 0.32417185]\n",
      " [0.50148895 0.18683513 0.2369235  ... 2.4265361  1.43077375 0.4518423 ]]\n"
     ]
    }
   ],
   "source": [
    "print(data)"
   ]
  },
  {
   "cell_type": "markdown",
   "metadata": {},
   "source": [
    "### 提取第一个视频段的OF"
   ]
  },
  {
   "cell_type": "code",
   "execution_count": 6,
   "metadata": {},
   "outputs": [
    {
     "name": "stdout",
     "output_type": "stream",
     "text": [
      "(200,)\n"
     ]
    }
   ],
   "source": [
    "OF1 = data[0,:]\n",
    "print(OF1.shape)"
   ]
  },
  {
   "cell_type": "code",
   "execution_count": 9,
   "metadata": {},
   "outputs": [],
   "source": [
    "import json\n",
    "OF1_list = OF1.tolist()\n",
    "with open(\"../../SEED-DV/single-channel/OF_Processed/OF1.json\", \"w\") as f:\n",
    "    json.dump(OF1_list, f)"
   ]
  },
  {
   "cell_type": "code",
   "execution_count": null,
   "metadata": {},
   "outputs": [],
   "source": []
  }
 ],
 "metadata": {
  "kernelspec": {
   "display_name": "Python 3",
   "language": "python",
   "name": "python3"
  },
  "language_info": {
   "codemirror_mode": {
    "name": "ipython",
    "version": 3
   },
   "file_extension": ".py",
   "mimetype": "text/x-python",
   "name": "python",
   "nbconvert_exporter": "python",
   "pygments_lexer": "ipython3",
   "version": "3.9.10"
  }
 },
 "nbformat": 4,
 "nbformat_minor": 2
}
