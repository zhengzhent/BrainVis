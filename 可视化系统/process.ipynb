{
 "cells": [
  {
   "cell_type": "code",
   "execution_count": 2,
   "metadata": {},
   "outputs": [
    {
     "name": "stdout",
     "output_type": "stream",
     "text": [
      "Shape: (7, 62, 104000)\n",
      "Number of elements: 45136000\n",
      "Data type: float64\n"
     ]
    }
   ],
   "source": [
    "import numpy as np\n",
    "\n",
    "# 加载文件\n",
    "data = np.load(\"D:\\MyWork\\Program\\BrainVis\\可视化系统\\SEED-DV\\EEG\\sub1.npy\")\n",
    "\n",
    "print(f\"Shape: {data.shape}\")\n",
    "print(f\"Number of elements: {data.size}\")\n",
    "print(f\"Data type: {data.dtype}\")\n"
   ]
  },
  {
   "cell_type": "code",
   "execution_count": 3,
   "metadata": {},
   "outputs": [
    {
     "name": "stdout",
     "output_type": "stream",
     "text": [
      "单独的通道已保存到文件: SEED-DV/single-channel/sub1_channel_0.npy\n"
     ]
    }
   ],
   "source": [
    "# 提取第一个通道（例如，索引为 0）\n",
    "channel_index = 0 \n",
    "single_channel_data = data[channel_index, :, :]  # Shape: (62, 104000)\n",
    "\n",
    "# 保存为新的 NumPy 文件\n",
    "output_file = f\"SEED-DV/single-channel/sub1_channel_{channel_index}.npy\"\n",
    "np.save(output_file, single_channel_data)\n",
    "\n",
    "print(f\"单独的通道已保存到文件: {output_file}\")"
   ]
  },
  {
   "cell_type": "code",
   "execution_count": 4,
   "metadata": {},
   "outputs": [
    {
     "name": "stdout",
     "output_type": "stream",
     "text": [
      "Shape: (62, 104000)\n",
      "[[ 1.53464862e-05  2.11481732e-05  2.43434460e-05 ... -7.29283173e-05\n",
      "  -7.46740384e-05 -8.06493847e-05]\n",
      " [ 4.16522842e-06  9.55212096e-06  1.22836786e-05 ... -6.91159201e-05\n",
      "  -7.10886897e-05 -7.62168113e-05]\n",
      " [ 3.11756976e-06  8.88246230e-06  9.48766876e-06 ... -6.47041352e-05\n",
      "  -6.60135074e-05 -6.90890300e-05]\n",
      " ...\n",
      " [ 7.15219972e-05  7.79764285e-05  7.97038333e-05 ...  2.65825371e-05\n",
      "   2.70681941e-05  2.36906052e-05]\n",
      " [ 5.12147840e-05  5.13100439e-05  5.05527733e-05 ... -1.60168977e-05\n",
      "  -8.50148521e-06 -5.76501449e-06]\n",
      " [ 1.94611646e-04  1.98470404e-04  2.01134360e-04 ... -5.11715746e-05\n",
      "  -5.55491066e-05 -5.47459177e-05]]\n"
     ]
    }
   ],
   "source": [
    "data_single_sub1_channel0 = np.load(\"D:\\MyWork\\Program\\BrainVis\\可视化系统\\SEED-DV\\single-channel\\sub1_channel_0.npy\")\n",
    "print(f\"Shape: {data_single_sub1_channel0.shape}\")\n",
    "print(data_single_sub1_channel0)"
   ]
  },
  {
   "cell_type": "markdown",
   "metadata": {},
   "source": [
    "## 提取前5200维（26s*200）作为测试数据"
   ]
  },
  {
   "cell_type": "code",
   "execution_count": 5,
   "metadata": {},
   "outputs": [
    {
     "name": "stdout",
     "output_type": "stream",
     "text": [
      "(62, 2600)\n"
     ]
    }
   ],
   "source": [
    "testEEG =  data_single_sub1_channel0[:, :2600]\n",
    "print(testEEG.shape)"
   ]
  },
  {
   "cell_type": "code",
   "execution_count": 6,
   "metadata": {},
   "outputs": [
    {
     "name": "stdout",
     "output_type": "stream",
     "text": [
      "Data has been saved to sub1_channel0.json\n"
     ]
    }
   ],
   "source": [
    "import json\n",
    "\n",
    "data_list = data_single_sub1_channel0.tolist()\n",
    "\n",
    "# 保存为 JSON 文件\n",
    "with open(\"SEED-DV/single-channel/sub1_channel0.json\", \"w\") as f:\n",
    "    json.dump(data_list, f)\n",
    "\n",
    "print(\"Data has been saved to sub1_channel0.json\")\n"
   ]
  },
  {
   "cell_type": "markdown",
   "metadata": {},
   "source": [
    "### 测试数据转化json 104000个数据点 第一个通道"
   ]
  },
  {
   "cell_type": "code",
   "execution_count": 7,
   "metadata": {},
   "outputs": [],
   "source": [
    "testData_list = testEEG.tolist()\n",
    "with open(\"SEED-DV/single-channel/testData/testEEG.json\", \"w\") as f:\n",
    "    json.dump(testData_list, f)"
   ]
  },
  {
   "cell_type": "code",
   "execution_count": 8,
   "metadata": {},
   "outputs": [
    {
     "name": "stdout",
     "output_type": "stream",
     "text": [
      "(104000,)\n"
     ]
    }
   ],
   "source": [
    "c0 = data_single_sub1_channel0[0, :]\n",
    "print(c0.shape)"
   ]
  },
  {
   "cell_type": "code",
   "execution_count": 9,
   "metadata": {},
   "outputs": [],
   "source": [
    "c0_list = c0.tolist()\n",
    "with open(\"SEED-DV/single-channel/testData/c0.json\", \"w\") as f:\n",
    "    json.dump(c0_list, f)"
   ]
  },
  {
   "cell_type": "code",
   "execution_count": 16,
   "metadata": {},
   "outputs": [
    {
     "name": "stdout",
     "output_type": "stream",
     "text": [
      "行数: 200, 列数: 7\n"
     ]
    }
   ],
   "source": [
    "import pandas as pd \n",
    "import os \n",
    " \n",
    "# 文件路径 \n",
    "file_path1 = 'SEED-DV\\single-channel\\EEG_Feature\\sub5_block1_PSD_2s_OZ.csv'   # 替换为你的CSV文件路径 \n",
    " \n",
    "# 读取CSV文件 \n",
    "df = pd.read_csv(file_path1) \n",
    " \n",
    "# 查看行数和列数 \n",
    "num_rows, num_cols = df.shape  \n",
    "print(f\"行数: {num_rows}, 列数: {num_cols}\")"
   ]
  },
  {
   "cell_type": "code",
   "execution_count": 17,
   "metadata": {},
   "outputs": [
    {
     "name": "stdout",
     "output_type": "stream",
     "text": [
      "JSON文件已生成：sub5_block1_PSD_2s_OZ.json\n"
     ]
    }
   ],
   "source": [
    "psd_gamma_data = df['PSD_Gamma'].tolist()\n",
    "\n",
    "# 转换为JSON格式\n",
    "# json_data = {'PSD_gamma': psd_gamma_data}\n",
    "\n",
    "# 保存为JSON文件\n",
    "import json\n",
    "with open('SEED-DV\\single-channel\\EEG_Feature\\sub5_block1_PSD_2s_OZ.json',  'w') as json_file:\n",
    "    json.dump(psd_gamma_data,  json_file, indent=4)\n",
    "\n",
    "print(\"JSON文件已生成：sub5_block1_PSD_2s_OZ.json\") "
   ]
  },
  {
   "cell_type": "code",
   "execution_count": null,
   "metadata": {},
   "outputs": [],
   "source": []
  }
 ],
 "metadata": {
  "kernelspec": {
   "display_name": "Python 3",
   "language": "python",
   "name": "python3"
  },
  "language_info": {
   "codemirror_mode": {
    "name": "ipython",
    "version": 3
   },
   "file_extension": ".py",
   "mimetype": "text/x-python",
   "name": "python",
   "nbconvert_exporter": "python",
   "pygments_lexer": "ipython3",
   "version": "3.9.10"
  }
 },
 "nbformat": 4,
 "nbformat_minor": 2
}
