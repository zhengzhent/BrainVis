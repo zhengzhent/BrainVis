{
 "cells": [
  {
   "cell_type": "code",
   "execution_count": 3,
   "metadata": {},
   "outputs": [
    {
     "name": "stdout",
     "output_type": "stream",
     "text": [
      "Shape: (7, 62, 104000)\n",
      "Number of elements: 45136000\n",
      "Data type: float64\n"
     ]
    }
   ],
   "source": [
    "import numpy as np\n",
    "\n",
    "# 加载文件\n",
    "data = np.load(\"D:\\MyWork\\Program\\BrainVis\\可视化系统\\SEED-DV\\EEG\\sub1.npy\")\n",
    "\n",
    "print(f\"Shape: {data.shape}\")\n",
    "print(f\"Number of elements: {data.size}\")\n",
    "print(f\"Data type: {data.dtype}\")\n"
   ]
  },
  {
   "cell_type": "code",
   "execution_count": 4,
   "metadata": {},
   "outputs": [
    {
     "name": "stdout",
     "output_type": "stream",
     "text": [
      "单独的通道已保存到文件: SEED-DV/single-channel/sub1_channel_0.npy\n"
     ]
    }
   ],
   "source": [
    "# 提取第一个通道（例如，索引为 0）\n",
    "channel_index = 0 \n",
    "single_channel_data = data[channel_index, :, :]  # Shape: (62, 104000)\n",
    "\n",
    "# 保存为新的 NumPy 文件\n",
    "output_file = f\"SEED-DV/single-channel/sub1_channel_{channel_index}.npy\"\n",
    "np.save(output_file, single_channel_data)\n",
    "\n",
    "print(f\"单独的通道已保存到文件: {output_file}\")"
   ]
  },
  {
   "cell_type": "code",
   "execution_count": 5,
   "metadata": {},
   "outputs": [
    {
     "name": "stdout",
     "output_type": "stream",
     "text": [
      "Shape: (62, 104000)\n",
      "[[ 1.53464862e-05  2.11481732e-05  2.43434460e-05 ... -7.29283173e-05\n",
      "  -7.46740384e-05 -8.06493847e-05]\n",
      " [ 4.16522842e-06  9.55212096e-06  1.22836786e-05 ... -6.91159201e-05\n",
      "  -7.10886897e-05 -7.62168113e-05]\n",
      " [ 3.11756976e-06  8.88246230e-06  9.48766876e-06 ... -6.47041352e-05\n",
      "  -6.60135074e-05 -6.90890300e-05]\n",
      " ...\n",
      " [ 7.15219972e-05  7.79764285e-05  7.97038333e-05 ...  2.65825371e-05\n",
      "   2.70681941e-05  2.36906052e-05]\n",
      " [ 5.12147840e-05  5.13100439e-05  5.05527733e-05 ... -1.60168977e-05\n",
      "  -8.50148521e-06 -5.76501449e-06]\n",
      " [ 1.94611646e-04  1.98470404e-04  2.01134360e-04 ... -5.11715746e-05\n",
      "  -5.55491066e-05 -5.47459177e-05]]\n"
     ]
    }
   ],
   "source": [
    "data_single_sub1_channel0 = np.load(\"D:\\MyWork\\Program\\BrainVis\\可视化系统\\SEED-DV\\single-channel\\sub1_channel_0.npy\")\n",
    "print(f\"Shape: {data_single_sub1_channel0.shape}\")\n",
    "print(data_single_sub1_channel0)"
   ]
  },
  {
   "cell_type": "code",
   "execution_count": 6,
   "metadata": {},
   "outputs": [
    {
     "name": "stdout",
     "output_type": "stream",
     "text": [
      "Data has been saved to sub1_channel0.json\n"
     ]
    }
   ],
   "source": [
    "import json\n",
    "\n",
    "data_list = data_single_sub1_channel0.tolist()\n",
    "\n",
    "# 保存为 JSON 文件\n",
    "with open(\"SEED-DV/single-channel/sub1_channel0.json\", \"w\") as f:\n",
    "    json.dump(data_list, f)\n",
    "\n",
    "print(\"Data has been saved to sub1_channel0.json\")\n"
   ]
  },
  {
   "cell_type": "code",
   "execution_count": null,
   "metadata": {},
   "outputs": [],
   "source": []
  }
 ],
 "metadata": {
  "kernelspec": {
   "display_name": "Python 3",
   "language": "python",
   "name": "python3"
  },
  "language_info": {
   "codemirror_mode": {
    "name": "ipython",
    "version": 3
   },
   "file_extension": ".py",
   "mimetype": "text/x-python",
   "name": "python",
   "nbconvert_exporter": "python",
   "pygments_lexer": "ipython3",
   "version": "3.9.10"
  }
 },
 "nbformat": 4,
 "nbformat_minor": 2
}
